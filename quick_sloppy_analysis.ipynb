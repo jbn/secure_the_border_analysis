{
 "cells": [
  {
   "cell_type": "code",
   "execution_count": 23,
   "metadata": {
    "collapsed": true
   },
   "outputs": [],
   "source": [
    "%matplotlib inline\n",
    "import json\n",
    "import requests\n",
    "import seaborn as sns\n",
    "import re\n",
    "import numpy as np\n",
    "import pandas as pd \n",
    "from lxml.html import fromstring"
   ]
  },
  {
   "cell_type": "code",
   "execution_count": 52,
   "metadata": {},
   "outputs": [
    {
     "data": {
      "text/html": [
       "<blockquote class=\"twitter-tweet\" data-lang=\"en\"><p lang=\"en\" dir=\"ltr\">This is an actual story on an official government website with a 14-word headline starting with &quot;we must secure&quot;. This is not an accident. There are actual Nazis-who-call-themselves-Nazis at DHS. <a href=\"https://t.co/Q01TRRpNaI\">https://t.co/Q01TRRpNaI</a></p>&mdash; Laurie Voss (@seldo) <a href=\"https://twitter.com/seldo/status/1012411506305036288?ref_src=twsrc%5Etfw\">June 28, 2018</a></blockquote>\n",
       "<script async src=\"https://platform.twitter.com/widgets.js\" charset=\"utf-8\"></script>"
      ],
      "text/plain": [
       "<IPython.core.display.HTML object>"
      ]
     },
     "metadata": {},
     "output_type": "display_data"
    }
   ],
   "source": [
    "%%html\n",
    "<blockquote class=\"twitter-tweet\" data-lang=\"en\"><p lang=\"en\" dir=\"ltr\">This is an actual story on an official government website with a 14-word headline starting with &quot;we must secure&quot;. This is not an accident. There are actual Nazis-who-call-themselves-Nazis at DHS. <a href=\"https://t.co/Q01TRRpNaI\">https://t.co/Q01TRRpNaI</a></p>&mdash; Laurie Voss (@seldo) <a href=\"https://twitter.com/seldo/status/1012411506305036288?ref_src=twsrc%5Etfw\">June 28, 2018</a></blockquote>\n",
    "<script async src=\"https://platform.twitter.com/widgets.js\" charset=\"utf-8\"></script>\n"
   ]
  },
  {
   "cell_type": "code",
   "execution_count": 2,
   "metadata": {
    "collapsed": true
   },
   "outputs": [],
   "source": [
    "!mkdir -p data"
   ]
  },
  {
   "cell_type": "markdown",
   "metadata": {},
   "source": [
    "# Collect SERPS"
   ]
  },
  {
   "cell_type": "code",
   "execution_count": 3,
   "metadata": {},
   "outputs": [
    {
     "name": "stdout",
     "output_type": "stream",
     "text": [
      "0\n",
      "1\n",
      "2\n",
      "3\n",
      "4\n",
      "5\n",
      "6\n",
      "7\n",
      "8\n",
      "9\n",
      "10\n",
      "11\n",
      "12\n",
      "13\n",
      "14\n",
      "15\n",
      "16\n",
      "17\n",
      "18\n",
      "19\n",
      "20\n",
      "21\n",
      "22\n",
      "23\n",
      "24\n",
      "25\n",
      "26\n",
      "27\n",
      "28\n",
      "29\n",
      "30\n",
      "31\n",
      "32\n",
      "33\n",
      "34\n"
     ]
    }
   ],
   "source": [
    "paginator = \"https://www.dhs.gov/news-releases/press-releases?page={}\"\n",
    "\n",
    "with open(\"data/serps.jsonl\", \"w\") as fp:\n",
    "    for page_id in range(35):\n",
    "        print(page_id)\n",
    "        url = paginator.format(page_id)\n",
    "        resp = requests.get(url)\n",
    "        src = resp.text\n",
    "        line = json.dumps({'url': url, 'src': src}) + \"\\n\"\n",
    "        fp.write(line)"
   ]
  },
  {
   "cell_type": "markdown",
   "metadata": {},
   "source": [
    "# Get releases"
   ]
  },
  {
   "cell_type": "code",
   "execution_count": 4,
   "metadata": {},
   "outputs": [
    {
     "data": {
      "text/plain": [
       "['https://www.dhs.gov/news/2018/01/03/secretary-nielsen-tours-wildfire-devastation-california',\n",
       " 'https://www.dhs.gov/news/2018/01/04/update-your-system-now-protect-yourself-against-known-cyber-vulnerabilities',\n",
       " 'https://www.dhs.gov/news/2018/01/08/secretary-homeland-security-kirstjen-m-nielsen-announcement-temporary-protected',\n",
       " 'https://www.dhs.gov/news/2018/01/09/dhs-acting-press-secretary-statement-december-border-apprehension-numbers',\n",
       " 'https://www.dhs.gov/news/2018/01/10/secretary-nielsen-statement-introduction-goodlatte-mccaul-bill',\n",
       " 'https://www.dhs.gov/news/2018/01/11/statement-secretary-kirstjen-m-nielsen-human-trafficking-awareness',\n",
       " 'https://www.dhs.gov/news/2018/01/14/deferred-action-childhood-arrivals-response-january-2018-preliminary-injunction',\n",
       " 'https://www.dhs.gov/news/2018/01/16/dhs-doj-report-three-out-four-individuals-convicted-international-terrorism-and',\n",
       " 'https://www.dhs.gov/news/2018/01/18/privacy-incident-involving-dhs-oig-case-management-system-update',\n",
       " 'https://www.dhs.gov/news/2018/01/19/98-us-states-and-territories-track-compliance-ahead-real-id-deadline']"
      ]
     },
     "execution_count": 4,
     "metadata": {},
     "output_type": "execute_result"
    }
   ],
   "source": [
    "hrefs = set()\n",
    "\n",
    "with open(\"data/serps.jsonl\") as fp:\n",
    "    for line in fp:\n",
    "        rec = json.loads(line)\n",
    "        doc = fromstring(rec['src'])\n",
    "        hrefs.update(doc.xpath(\"//a[contains(@href,'/news/2018')]/@href\"))\n",
    "        \n",
    "urls = sorted([\"https://www.dhs.gov\" + href for href in hrefs])\n",
    "urls[:10]"
   ]
  },
  {
   "cell_type": "code",
   "execution_count": 5,
   "metadata": {},
   "outputs": [
    {
     "name": "stdout",
     "output_type": "stream",
     "text": [
      "https://www.dhs.gov/news/2018/01/03/secretary-nielsen-tours-wildfire-devastation-california\n",
      "https://www.dhs.gov/news/2018/01/04/update-your-system-now-protect-yourself-against-known-cyber-vulnerabilities\n",
      "https://www.dhs.gov/news/2018/01/08/secretary-homeland-security-kirstjen-m-nielsen-announcement-temporary-protected\n",
      "https://www.dhs.gov/news/2018/01/09/dhs-acting-press-secretary-statement-december-border-apprehension-numbers\n",
      "https://www.dhs.gov/news/2018/01/10/secretary-nielsen-statement-introduction-goodlatte-mccaul-bill\n",
      "https://www.dhs.gov/news/2018/01/11/statement-secretary-kirstjen-m-nielsen-human-trafficking-awareness\n",
      "https://www.dhs.gov/news/2018/01/14/deferred-action-childhood-arrivals-response-january-2018-preliminary-injunction\n",
      "https://www.dhs.gov/news/2018/01/16/dhs-doj-report-three-out-four-individuals-convicted-international-terrorism-and\n",
      "https://www.dhs.gov/news/2018/01/18/privacy-incident-involving-dhs-oig-case-management-system-update\n",
      "https://www.dhs.gov/news/2018/01/19/98-us-states-and-territories-track-compliance-ahead-real-id-deadline\n",
      "https://www.dhs.gov/news/2018/01/19/notice-dhs-american-samoa-real-id-enforcement\n",
      "https://www.dhs.gov/news/2018/01/23/dhs-issues-waiver-expedite-border-construction-project-new-mexico\n",
      "https://www.dhs.gov/news/2018/01/26/secretary-kirstjen-m-nielsen-statement-white-house-immigration-framework\n",
      "https://www.dhs.gov/news/2018/01/26/secretary-nielsen-works-advance-global-security-standards-davos\n",
      "https://www.dhs.gov/news/2018/01/29/dhs-announces-additional-enhanced-security-procedures-refugees-seeking-resettlement\n",
      "https://www.dhs.gov/news/2018/01/30/secretary-nielsen-statement-president-trump-s-state-union\n",
      "https://www.dhs.gov/news/2018/01/31/secretary-homeland-security-kirstjen-m-nielsen-announcement-temporary-protected\n",
      "https://www.dhs.gov/news/2018/02/05/dhs-secretary-kirstjen-m-nielsen-discusses-raising-global-security-standards\n",
      "https://www.dhs.gov/news/2018/02/06/secretary-kirstjen-m-nielsen-statement-national-vetting-center\n",
      "https://www.dhs.gov/news/2018/02/07/dhs-acting-press-secretary-statement-january-border-apprehension-numbers\n",
      "https://www.dhs.gov/news/2018/02/12/department-homeland-security-statement-president-s-fiscal-year-2019-budget\n",
      "https://www.dhs.gov/news/2018/02/12/dhs-statement-nbc-news-coverage-election-hacking\n",
      "https://www.dhs.gov/news/2018/02/14/mccain-coons-proposal-would-increase-illegal-immigration-surge-chain-migration\n",
      "https://www.dhs.gov/news/2018/02/14/secure-and-succeed-act-secures-border-ends-chain-migration-cancels-visa-lottery-and\n",
      "https://www.dhs.gov/news/2018/02/15/make-america-safe-again-we-must-end-sanctuary-cities-and-remove-criminal-aliens\n",
      "https://www.dhs.gov/news/2018/02/15/odni-dhs-fbi-lead-national-level-classified-dialogue-state-election-officials\n",
      "https://www.dhs.gov/news/2018/02/15/schumer-rounds-collins-destroys-ability-dhs-enforce-immigration-laws-creating-mass\n",
      "https://www.dhs.gov/news/2018/02/15/unaccompanied-alien-children-and-family-units-are-flooding-border-because-catch-and\n",
      "https://www.dhs.gov/news/2018/02/15/we-must-secure-border-and-build-wall-make-america-safe-again\n",
      "https://www.dhs.gov/news/2018/02/15/we-need-end-unchecked-chain-migration-and-eliminate-reckless-visa-lottery-secure\n",
      "https://www.dhs.gov/news/2018/02/16/dhs-secretary-nielsen-joins-vice-president-pence-along-southern-border\n",
      "https://www.dhs.gov/news/2018/02/16/readout-secretary-kirstjen-m-nielsens-meeting-guatemalan-minister-government-enrique\n",
      "https://www.dhs.gov/news/2018/02/19/readout-dhs-meetings-state-election-officials-and-other-election-sector-partners\n",
      "https://www.dhs.gov/news/2018/02/20/secretary-homeland-security-kirstjen-m-nielsen-statement-cybersecurity-nation-s\n",
      "https://www.dhs.gov/news/2018/02/22/readout-dhs-secretary-kirstjen-m-nielsen-meeting-australian-prime-minster-malcolm\n",
      "https://www.dhs.gov/news/2018/02/23/dhs-secretary-kirstjen-m-nielsen-meets-council-governors\n",
      "https://www.dhs.gov/news/2018/02/23/secretary-nielsen-statement-retirement-deputy-secretary-duke\n",
      "https://www.dhs.gov/news/2018/02/27/dhs-acting-press-secretary-statement-border-wall-ruling\n",
      "https://www.dhs.gov/news/2018/03/01/secretary-nielsen-marks-15-years-dhs-protecting-homeland\n",
      "https://www.dhs.gov/news/2018/03/01/statement-secretary-homeland-security-kirstjen-m-nielsen-aviation-security\n",
      "https://www.dhs.gov/news/2018/03/07/acting-press-secretary-tyler-q-houlton-statement-deferred-action-childhood-arrivals\n",
      "https://www.dhs.gov/news/2018/03/08/secretary-nielsen-statement-president-trumps-nomination-vice-admiral-karl-l-schultz\n",
      "https://www.dhs.gov/news/2018/03/12/dhs-working-enhance-school-safety-increase-preparedness\n",
      "https://www.dhs.gov/news/2018/03/13/dhs-statement-president-trump-visit-border-wall-prototypes\n",
      "https://www.dhs.gov/news/2018/03/22/readout-secretary-kirstjen-m-nielsen-s-meeting-eu-counter-terrorism-coordinator\n",
      "https://www.dhs.gov/news/2018/03/22/statement-secretary-kirstjen-m-nielsen-confirmation-cbp-commissioner-kevin-mcaleenan\n",
      "https://www.dhs.gov/news/2018/03/25/secretary-kirstjen-m-nielsen-travel-mexico\n",
      "https://www.dhs.gov/news/2018/03/27/readout-secretary-kirstjen-m-nielsen-s-meeting-mexican-president-enrique-pe-nieto\n",
      "https://www.dhs.gov/news/2018/03/27/secretary-nielsen-enters-agreements-mexican-officials-strengthen-us-mexico\n",
      "https://www.dhs.gov/news/2018/04/04/secure-border-and-make-america-safe-again-we-need-deploy-national-guard\n",
      "https://www.dhs.gov/news/2018/04/05/statement-press-secretary-march-border-numbers\n",
      "https://www.dhs.gov/news/2018/04/06/joint-statement-secretary-homeland-security-kirstjen-nielsen-and-secretary-defense\n",
      "https://www.dhs.gov/news/2018/04/09/secretary-kirstjen-m-nielsen-travel-new-mexico\n",
      "https://www.dhs.gov/news/2018/04/10/chad-has-met-baseline-security-requirements-travel-restrictions-be-removed\n",
      "https://www.dhs.gov/news/2018/04/10/secretary-kirstjen-m-nielsen-statement-thomas-p-bossert\n",
      "https://www.dhs.gov/news/2018/04/12/secretary-kirstjen-m-nielsen-speak-rsa-conference\n",
      "https://www.dhs.gov/news/2018/04/17/dhs-press-secretary-statement-sessions-v-dimaya\n",
      "https://www.dhs.gov/news/2018/04/19/secretary-nielsen-joins-president-trump-jiatf-south-discuss-efforts-stop-drugs-and\n",
      "https://www.dhs.gov/news/2018/04/20/secretary-kirstjen-m-nielsen-travel-g7-security-ministerial\n",
      "https://www.dhs.gov/news/2018/04/23/readout-secretary-kirstjen-m-nielsen-s-day-one-meetings-g7-security-ministerial\n",
      "https://www.dhs.gov/news/2018/04/23/secretary-kirstjen-m-nielsen-statement-central-american-caravan\n",
      "https://www.dhs.gov/news/2018/04/24/readout-secretary-kirstjen-m-nielsen-s-day-two-meetings-g7-security-ministerial\n",
      "https://www.dhs.gov/news/2018/04/25/secretary-nielsen-statement-arrival-central-american-caravan\n",
      "https://www.dhs.gov/news/2018/04/26/secretary-kirstjen-m-nielsen-announcement-temporary-protected-status-nepal\n",
      "https://www.dhs.gov/news/2018/05/01/secretary-kirstjen-m-nielsen-leads-hurricane-preparedness-exercise\n",
      "https://www.dhs.gov/news/2018/05/04/secretary-homeland-security-kirstjen-m-nielsen-announcement-temporary-protected\n",
      "https://www.dhs.gov/news/2018/05/04/statement-dhs-press-secretary-april-border-numbers\n",
      "https://www.dhs.gov/news/2018/05/09/dhs-reissues-ntas-bulletin\n",
      "https://www.dhs.gov/news/2018/05/15/department-homeland-security-unveils-strategy-guide-cybersecurity-efforts\n",
      "https://www.dhs.gov/news/2018/05/18/dhs-honors-fallen-law-enforcement-officers-during-police-week\n",
      "https://www.dhs.gov/news/2018/05/18/readout-meetings-between-dhs-dos-and-mexican-officials-0\n",
      "https://www.dhs.gov/news/2018/05/21/acting-deputy-secretary-homeland-security-claire-grady-travel-us-eu-justice-and-home\n",
      "https://www.dhs.gov/news/2018/05/21/dhs-announces-funding-opportunity-fiscal-year-fy-2018-preparedness-grants-0\n",
      "https://www.dhs.gov/news/2018/05/22/joint-statement-dhs-secretary-kirstjen-m-nielsen-fbi-director-christopher-wray-and\n",
      "https://www.dhs.gov/news/2018/05/23/joint-eu-us-statement-following-eu-us-justice-and-home-affairs-ministerial-meeting\n",
      "https://www.dhs.gov/news/2018/05/29/secretary-nielsen-meets-uk-home-secretary-javid\n",
      "https://www.dhs.gov/news/2018/05/30/secretary-kirstjen-m-nielsen-visits-national-hurricane-center-miami\n",
      "https://www.dhs.gov/news/2018/05/30/secretary-nielsen-statement-executive-order-13800\n",
      "https://www.dhs.gov/news/2018/05/31/dhs-announces-additional-visas-foreign-workers-assist-american-businesses-risk\n",
      "https://www.dhs.gov/news/2018/06/04/secretary-kirstjen-m-nielsen-meets-canadian-minister-ahmed-hussen\n"
     ]
    },
    {
     "name": "stdout",
     "output_type": "stream",
     "text": [
      "https://www.dhs.gov/news/2018/06/06/statement-dhs-press-secretary-may-border-numbers\n",
      "https://www.dhs.gov/news/2018/06/07/departments-justice-and-homeland-security-release-quarterly-alien-incarceration\n",
      "https://www.dhs.gov/news/2018/06/07/dhs-receives-grade-sba-annual-small-business-procurement-scorecard\n",
      "https://www.dhs.gov/news/2018/06/07/secretary-kirstjen-m-nielsen-meets-honduran-president-juan-orlando-hern-ndez\n",
      "https://www.dhs.gov/news/2018/06/08/secretary-kirstjen-m-nielsen-travel-israel\n",
      "https://www.dhs.gov/news/2018/06/12/dhs-announces-strengthened-northern-border-strategy\n",
      "https://www.dhs.gov/news/2018/06/12/secretary-nielsen-receives-operational-briefing-israeli-security-technology-delivers\n",
      "https://www.dhs.gov/news/2018/06/13/secretary-kirstjen-m-nielsen-meets-israeli-prime-minister-benjamin-netanyahu\n",
      "https://www.dhs.gov/news/2018/06/15/fact-sheet-zero-tolerance-immigration-prosecutions-families\n",
      "https://www.dhs.gov/news/2018/06/18/dhs-secretary-nielsens-remarks-illegal-immigration-crisis\n",
      "https://www.dhs.gov/news/2018/06/18/myth-vs-fact-dhs-zero-tolerance-policy\n",
      "https://www.dhs.gov/news/2018/06/19/dhs-officials-discuss-efforts-combat-opioid-crisis\n",
      "https://www.dhs.gov/news/2018/06/23/fact-sheet-zero-tolerance-prosecution-and-family-reunification\n",
      "https://www.dhs.gov/news/2018/06/26/dhs-statement-protecting-nation-foreign-terrorist-entry-united-states\n"
     ]
    }
   ],
   "source": [
    "with open(\"data/releases.jsonl\", \"w\") as fp:\n",
    "    for url in urls:\n",
    "        print(url)\n",
    "        src = requests.get(url).text\n",
    "        line = json.dumps({'url': url, 'src': src}) + \"\\n\"\n",
    "        fp.write(line)"
   ]
  },
  {
   "cell_type": "markdown",
   "metadata": {},
   "source": [
    "# Analysis"
   ]
  },
  {
   "cell_type": "code",
   "execution_count": 2,
   "metadata": {
    "collapsed": true
   },
   "outputs": [],
   "source": [
    "docs, srcs = [], []\n",
    "\n",
    "with open(\"data/releases.jsonl\") as fp:\n",
    "    for line in fp:\n",
    "        src = json.loads(line)['src']\n",
    "        srcs.append(src)\n",
    "        docs.append(fromstring(src))"
   ]
  },
  {
   "cell_type": "code",
   "execution_count": 3,
   "metadata": {},
   "outputs": [
    {
     "data": {
      "image/png": "[encoded data removed]",
      "text/plain": [
       "<matplotlib.figure.Figure at 0x1101b1fd0>"
      ]
     },
     "metadata": {},
     "output_type": "display_data"
    }
   ],
   "source": [
    "headers = []\n",
    "for doc in docs:\n",
    "    for header in doc.xpath(\"//header/h1/text()\"):\n",
    "        headers.append(header)\n",
    "title_lens = [len(h.split(\" \")) for h in headers]\n",
    "title_lens = pd.Series(title_lens).value_counts().sort_index()\n",
    "(title_lens / len(headers)).plot(kind='bar');"
   ]
  },
  {
   "cell_type": "code",
   "execution_count": 4,
   "metadata": {},
   "outputs": [
    {
     "data": {
      "text/plain": [
       "['DHS Announces Additional, Enhanced Security Procedures for Refugees Seeking Resettlement in the United States',\n",
       " 'Secretary Of Homeland Security Kirstjen M. Nielsen Announcement On Temporary Protected Status For Syria',\n",
       " 'To Make America Safe Again, We Must End Sanctuary Cities and Remove Criminal Aliens',\n",
       " 'We Must Secure The Border And Build The Wall To Make America Safe Again',\n",
       " \"Readout of Secretary Kirstjen M. Nielsen's Meeting with Guatemalan Minister of Government Enrique Degenhart\",\n",
       " 'Secretary of Homeland Security Kirstjen M. Nielsen Statement on Cybersecurity for the Nation’s Election',\n",
       " 'Secretary Kirstjen M. Nielsen Statement on the Retirement of Deputy Secretary Elaine C. Duke',\n",
       " 'Readout of Secretary Kirstjen M. Nielsen’s Meeting with EU Counter-Terrorism Coordinator Gilles de Kerchove',\n",
       " 'Readout of Secretary Kirstjen M. Nielsen’s Day One Meetings at the G7 Security Ministerial',\n",
       " 'Readout of Secretary Kirstjen M. Nielsen’s Day Two Meetings at the G7 Security Ministerial',\n",
       " 'Secretary of Homeland Security Kirstjen M. Nielsen Announcement on Temporary Protected Status for Honduras',\n",
       " 'DHS Statement on Protecting the Nation from Foreign Terrorist Entry to the United States']"
      ]
     },
     "execution_count": 4,
     "metadata": {},
     "output_type": "execute_result"
    }
   ],
   "source": [
    "fourteens = [header for header in headers if len(header.split(\" \")) == 14]\n",
    "fourteens"
   ]
  },
  {
   "cell_type": "code",
   "execution_count": 22,
   "metadata": {},
   "outputs": [
    {
     "name": "stdout",
     "output_type": "stream",
     "text": [
      " 88  https://www.dhs.gov/news/2018/02/15/we-must-secure-border-and-build-wall-make-america-safe-again\n"
     ]
    }
   ],
   "source": [
    "eighty_eights = []\n",
    "\n",
    "with open(\"data/releases.jsonl\") as fp:\n",
    "    for line in fp:\n",
    "        rec = json.loads(line)\n",
    "        src = rec['src']\n",
    "        doc = fromstring(src)\n",
    "        if \"Official website of the Department of Homeland Security\" not in src:\n",
    "            continue\n",
    "            \n",
    "        url = rec['url']\n",
    "        article = doc.cssselect(\"article .field-name-body\")[0].text_content()\n",
    "        article = article.lower()\n",
    "        for k in [' 88 ', ' eighty-eight ', ' eighty eight ']:\n",
    "            if k in article:\n",
    "                print(k, url)"
   ]
  },
  {
   "cell_type": "code",
   "execution_count": 48,
   "metadata": {},
   "outputs": [
    {
     "data": {
      "text/plain": [
       "['out of 88 claims that pass the credible fear screening, fewer than 13']"
      ]
     },
     "execution_count": 48,
     "metadata": {},
     "output_type": "execute_result"
    }
   ],
   "source": [
    "test_str = \"out of 88 claims that pass the credible fear screening, fewer than 13\"\n",
    "OUT_OF_RE = re.compile(\"out of \\d[0-9,\\.]+.*?\\d[0-9,\\.]+\", re.I)\n",
    "OUT_OF_RE.findall(test_str)"
   ]
  },
  {
   "cell_type": "code",
   "execution_count": 51,
   "metadata": {},
   "outputs": [
    {
     "data": {
      "text/plain": [
       "['out of 88 claims that pass the credible fear screening, fewer than 13']"
      ]
     },
     "execution_count": 51,
     "metadata": {},
     "output_type": "execute_result"
    }
   ],
   "source": [
    "out_ofs = []\n",
    "\n",
    "\n",
    "with open(\"data/releases.jsonl\") as fp:\n",
    "    for line in fp:\n",
    "        rec = json.loads(line)\n",
    "        src = rec['src']\n",
    "        doc = fromstring(src)\n",
    "        if \"Official website of the Department of Homeland Security\" not in src:\n",
    "            continue\n",
    "            \n",
    "        url = rec['url']\n",
    "        article = doc.cssselect(\"article .field-name-body\")[0].text_content()\n",
    "        article = article.lower()\n",
    "        out_ofs.extend(OUT_OF_RE.findall(article))\n",
    "        \n",
    "out_ofs"
   ]
  }
 ],
 "metadata": {
  "kernelspec": {
   "display_name": "Python 3",
   "language": "python",
   "name": "python3"
  },
  "language_info": {
   "codemirror_mode": {
    "name": "ipython",
    "version": 3
   },
   "file_extension": ".py",
   "mimetype": "text/x-python",
   "name": "python",
   "nbconvert_exporter": "python",
   "pygments_lexer": "ipython3",
   "version": "3.5.3"
  }
 },
 "nbformat": 4,
 "nbformat_minor": 2
}
